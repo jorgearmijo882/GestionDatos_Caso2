import pandas as pd
import numpy as np
from faker import Faker

# Generar datos aleatorios para la tabla
np.random.seed(42)  # Para que los resultados sean reproducibles
num_filas = 20

fake = Faker()
productos = [fake.word() for _ in range(num_filas)]  # Nombres de productos aleatorios
fechas = pd.date_range(start='2023-01-01', periods=num_filas, freq='D')  # Fechas a partir de enero de 2023
precios = np.random.randint(10, 1000, size=num_filas)  # Precios aleatorios entre 10 y 1000
ubicaciones = [fake.city() for _ in range(num_filas)]  # Nombres de ciudades aleatorias

# Crear la tabla de datos
datos = {
    'Producto': productos,
    'Fecha': fechas,
    'Precio': precios,
    'Ubicación': ubicaciones
}

df = pd.DataFrame(datos)

# Guardar los datos en un archivo CSV
archivo_csv = 'datos_ventas.csv'
df.to_csv(archivo_csv, index=False)

# Mostrar la tabla
print(df)
print(f"\nLos datos se han guardado en el archivo '{archivo_csv}'.")
