import pandas as pd
import matplotlib.pyplot as plt
import seaborn as sns

# Cargar el conjunto de datos
data_path = 'datos_ventas.csv'
df = pd.read_csv(data_path)

# Verificar la estructura del conjunto de datos
print(df.head())

# Manejo de valores nulos y duplicados
df.dropna(inplace=True)  # Eliminar filas con valores nulos
df.drop_duplicates(inplace=True)  # Eliminar filas duplicadas

# Estadísticas descriptivas
print("Estadísticas descriptivas:")
print(df.describe())

# Visualización de tendencias de ventas y relaciones entre variables

# Gráfico de barras para mostrar las ventas por producto
plt.figure(figsize=(10, 6))
sns.barplot(x='Producto', y='Precio', data=df)
plt.xlabel('Producto')
plt.ylabel('Precio')
plt.title('Ventas por Producto')
plt.xticks(rotation=45)
plt.show()

# Histograma para visualizar la distribución de precios
plt.figure(figsize=(8, 6))
sns.histplot(df['Precio'], bins=20)
plt.xlabel('Precio')
plt.ylabel('Frecuencia')
plt.title('Distribución de Precios')
plt.show()

# Diagrama de dispersión para ver la relación entre fechas y precios
plt.figure(figsize=(10, 6))
sns.scatterplot(x='Fecha', y='Precio', data=df)
plt.xlabel('Fecha')
plt.ylabel('Precio')
plt.title('Relación entre Fechas y Precios')
plt.xticks(rotation=45)
plt.show()
