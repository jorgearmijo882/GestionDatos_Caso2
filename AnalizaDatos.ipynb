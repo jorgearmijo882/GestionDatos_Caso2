import csv
import random
from faker import Faker
from datetime import datetime

# Función para generar datos de venta aleatorios
def generar_datos_venta(fake, ubicacion):
    producto = fake.word(ext_word_list=productos)
    fecha_venta = fake.date_between(start_date='-1y', end_date='today')

    # Determinar el rango de precios adecuado según la ubicación
    if "Cumbayá" in ubicacion:
        precio_min, precio_max = 10, 40
    elif "Norte" in ubicacion or "Valle Chillos" in ubicacion:
        precio_min, precio_max = 15, 30
    else:
        precio_min, precio_max = 10, 20

    precio = round(random.uniform(precio_min, precio_max), 2)
    cantidad = random.randint(1, 100)

    # Agregar información sobre forma de pago
    forma_pago = random.choice(["efectivo", "cheque", "transferencia", "tarjeta de crédito"])
    return [producto, fecha_venta, precio, cantidad, ubicacion, forma_pago]

# Lista de productos de consumo alimenticio (canasta básica)
productos_canasta_basica = ["Arroz", "Leche", "Pan", "Huevos", "Azúcar", "Aceite"]

# Lista de productos adicionales
productos_adicionales = [
    "Pollo", "Carne", "Papas", "Tomates", "Plátanos", "Cebolla",
    "Avena", "Yogur", "Pasta", "Galletas", "Manzanas", "Naranjas", "Fresas", "Atún"
]

# Combinar las dos listas para tener todos los productos
productos = productos_canasta_basica + productos_adicionales

# Lista de ubicaciones locales
ubicaciones = ["Norte", "Centro", "Valle Chillos", "Valle Cumbayá"]

# Crear un generador de datos aleatorios usando Faker
fake = Faker()

# Generar 1000 registros aleatorios
num_registros = 1000
datos_ventas = []

for _ in range(num_registros):
    ubicacion = random.choice(ubicaciones)
    datos_ventas.append(generar_datos_venta(fake, ubicacion))

# Guardar los datos en el archivo CSV
nombre_archivo = "ventas_realizadas.csv"
encabezados = ["Producto", "Fecha de Venta", "Precio", "Cantidad Vendida", "Ubicación Local", "Forma de Pago"]

with open(nombre_archivo, mode='w', newline='') as archivo_csv:
    writer = csv.writer(archivo_csv)
    writer.writerow(encabezados)
    writer.writerows(datos_ventas)

print(f"Se han generado {num_registros} registros y se han guardado en el archivo '{nombre_archivo}'.")
