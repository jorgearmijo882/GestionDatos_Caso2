import pandas as pd
import matplotlib.pyplot as plt
import seaborn as sns

# Cargar el conjunto de datos desde el archivo CSV con la codificación utf-8
nombre_archivo = "ventas_realizadas.csv"
df_ventas = pd.read_csv(nombre_archivo, encoding='ISO-8859-1')

# Limpiar los datos: Manejo de valores nulos y duplicados
print("Valores nulos por columna:")
print(df_ventas.isnull().sum())

# Eliminar filas con valores nulos (si los hay)
df_ventas = df_ventas.dropna()

# Eliminar posibles duplicados
df_ventas = df_ventas.drop_duplicates()

# Convertir la columna "Fecha de Venta" a tipo datetime
df_ventas["Fecha de Venta"] = pd.to_datetime(df_ventas["Fecha de Venta"])

# Estadísticas descriptivas de las variables numéricas y categóricas
print("\nEstadísticas descriptivas:")
print(df_ventas.describe())
print("\nResumen de variables categóricas:")
print(df_ventas.describe(include='object'))

# Visualización de ventas en cada punto de venta (ubicación local)
plt.figure(figsize=(10, 6))
sns.countplot(x='Ubicación Local', data=df_ventas, palette='viridis')
plt.title('Ventas en Cada Punto de Venta')
plt.xlabel('Ubicación Local')
plt.ylabel('Cantidad de Ventas')
plt.xticks(rotation=45, ha='right')
plt.show()

# Visualización de valores por cada producto
plt.figure(figsize=(12, 6))
sns.boxplot(x='Producto', y='Precio', data=df_ventas, palette='plasma')
plt.title('Valores por Cada Producto')
plt.xlabel('Producto')
plt.ylabel('Precio')
plt.xticks(rotation=45, ha='right')
plt.show()

# Visualización de la tendencia en el tiempo de compra
plt.figure(figsize=(12, 6))
sns.lineplot(x='Fecha de Venta', y='Cantidad Vendida', data=df_ventas, estimator='sum', ci=None)
plt.title('Tendencia en el Tiempo de Compra')
plt.xlabel('Fecha de Venta')
plt.ylabel('Cantidad Vendida')
plt.xticks(rotation=45, ha='right')
plt.show()

# Diagrama de dispersión para visualizar la relación entre precio y cantidad vendida
plt.figure(figsize=(8, 6))
sns.scatterplot(x='Precio', y='Cantidad Vendida', data=df_ventas, hue='Ubicación Local', palette='cool', alpha=0.7)
plt.title('Relación entre Precio y Cantidad Vendida')
plt.xlabel('Precio')
plt.ylabel('Cantidad Vendida')
plt.legend(title='Ubicación Local')
plt.show()

# Gráfico de barras para mostrar la forma de pago
plt.figure(figsize=(8, 6))
sns.countplot(x='Forma de Pago', data=df_ventas, palette='magma')
plt.title('Forma de Pago')
plt.xlabel('Forma de Pago')
plt.ylabel('Cantidad Vendida')
plt.show()
